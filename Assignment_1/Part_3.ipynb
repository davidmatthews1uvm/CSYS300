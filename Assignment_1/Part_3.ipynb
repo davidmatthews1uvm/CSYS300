{
 "cells": [
  {
   "cell_type": "code",
   "execution_count": 30,
   "metadata": {},
   "outputs": [],
   "source": [
    "# From: https://en.wikipedia.org/w/index.php?title=List_of_world_records_in_Olympic_weightlifting&oldid=976512613\n",
    "# World Standard interpolated points removed (an artifact of 2018 class redefinition.)\n",
    "# Records maintained by IWF.\n",
    "# 109+ / 87+ category replaced with actual body weight. Other athletes' weights closely matched weight class.\n",
    "\n",
    "mens_world_records = \"\"\"\n",
    "Bodymass (kg)\tEvent\tRecord (kg)\n",
    "55\tClean & Jerk\t166 kg\n",
    "55\tTotal\t294 kg\n",
    "61\tSnatch\t145 kg\n",
    "61\tClean & Jerk\t174 kg\n",
    "61\tTotal\t318 kg\n",
    "67\tSnatch\t155 kg\n",
    "67\tClean & Jerk\t188 kg\n",
    "67\tTotal\t339 kg\n",
    "73\tSnatch\t168 kg\n",
    "73\tClean & Jerk\t198 kg\n",
    "73\tTotal\t363 kg\n",
    "81\tSnatch\t173 kg\n",
    "81\tClean & Jerk\t207 kg\n",
    "81\tTotal\t378 kg\n",
    "96\tSnatch\t186 kg\n",
    "96\tClean & Jerk\t231 kg\n",
    "96\tTotal\t416 kg\n",
    "109\tSnatch\t199 kg\n",
    "109\tClean & Jerk\t240 kg\n",
    "109\tTotal\t435 kg\n",
    "167\tSnatch\t220 kg\n",
    "167\tClean & Jerk\t264 kg\n",
    "167\tTotal\t484 kg\n",
    "\"\"\"\n",
    "\n",
    "womens_world_records = \"\"\"Bodymass (kg)\tEvent\tRecord (kg)\n",
    "49\tSnatch\t95 kg\n",
    "49\tClean & Jerk\t118 kg\n",
    "49\tTotal\t212 kg\n",
    "55\tSnatch\t102 kg\n",
    "55\tClean & Jerk\t129 kg\n",
    "55\tTotal\t227 kg\n",
    "59\tSnatch\t107 kg\n",
    "59\tClean & Jerk\t140 kg\n",
    "59\tTotal\t246 kg\n",
    "64\tSnatch\t117 kg\n",
    "64\tClean & Jerk\t145 kg\n",
    "64\tTotal\t261 kg\n",
    "71\tClean & Jerk\t152 kg\n",
    "71\tTotal\t267 kg\n",
    "76\tSnatch\t124 kg\n",
    "76\tClean & Jerk\t156 kg\n",
    "76\tTotal\t278 kg\n",
    "148\tSnatch\t147 kg\n",
    "148\tClean & Jerk\t186 kg\n",
    "148\tTotal\t332 kg\"\"\""
   ]
  },
  {
   "cell_type": "code",
   "execution_count": 34,
   "metadata": {},
   "outputs": [],
   "source": [
    "import numpy as np\n",
    "import pandas as pd\n",
    "from io import StringIO\n",
    "import matplotlib.pyplot as plt"
   ]
  },
  {
   "cell_type": "code",
   "execution_count": 35,
   "metadata": {},
   "outputs": [],
   "source": [
    "mens_records = pd.read_csv(StringIO(mens_world_records), sep=\"\\t\")\n",
    "womens_records = pd.read_csv(StringIO(womens_world_records), sep=\"\\t\")"
   ]
  },
  {
   "cell_type": "code",
   "execution_count": 49,
   "metadata": {},
   "outputs": [],
   "source": [
    "records = pd.concat([mens_records, womens_records])\n",
    "records[\"Record (kg)\"] = records[\"Record (kg)\"].apply(lambda x: float(x[:-3]))\n",
    "total = records[records[\"Event\"] == \"Total\"]\n",
    "snatch = records[records[\"Event\"] == \"Snatch\"]\n",
    "clean_jerk = records[records[\"Event\"] == \"Clean & Jerk\"]"
   ]
  },
  {
   "cell_type": "code",
   "execution_count": 52,
   "metadata": {},
   "outputs": [
    {
     "data": {
      "text/plain": [
       "<matplotlib.collections.PathCollection at 0x7f95b5b61dd0>"
      ]
     },
     "execution_count": 52,
     "metadata": {},
     "output_type": "execute_result"
    },
    {
     "data": {
      "image/png": "[encoded data removed]",
      "text/plain": [
       "<Figure size 432x288 with 1 Axes>"
      ]
     },
     "metadata": {
      "needs_background": "light"
     },
     "output_type": "display_data"
    }
   ],
   "source": [
    "plt.scatter(total[\"Bodymass (kg)\"], total[\"Record (kg)\"])\n"
   ]
  },
  {
   "cell_type": "code",
   "execution_count": 53,
   "metadata": {},
   "outputs": [
    {
     "data": {
      "text/plain": [
       "<matplotlib.collections.PathCollection at 0x7f95b53b8dd0>"
      ]
     },
     "execution_count": 53,
     "metadata": {},
     "output_type": "execute_result"
    },
    {
     "data": {
      "image/png": "[encoded data removed]",
      "text/plain": [
       "<Figure size 432x288 with 1 Axes>"
      ]
     },
     "metadata": {
      "needs_background": "light"
     },
     "output_type": "display_data"
    }
   ],
   "source": [
    "plt.scatter(snatch[\"Bodymass (kg)\"], snatch[\"Record (kg)\"])\n"
   ]
  },
  {
   "cell_type": "code",
   "execution_count": 54,
   "metadata": {},
   "outputs": [
    {
     "data": {
      "text/plain": [
       "<matplotlib.collections.PathCollection at 0x7f95b5c0c910>"
      ]
     },
     "execution_count": 54,
     "metadata": {},
     "output_type": "execute_result"
    },
    {
     "data": {
      "image/png": "[encoded data removed]",
      "text/plain": [
       "<Figure size 432x288 with 1 Axes>"
      ]
     },
     "metadata": {
      "needs_background": "light"
     },
     "output_type": "display_data"
    }
   ],
   "source": [
    "plt.scatter(clean_jerk[\"Bodymass (kg)\"], clean_jerk[\"Record (kg)\"])"
   ]
  },
  {
   "cell_type": "code",
   "execution_count": null,
   "metadata": {},
   "outputs": [],
   "source": []
  }
 ],
 "metadata": {
  "kernelspec": {
   "display_name": "Python 3",
   "language": "python",
   "name": "python3"
  },
  "language_info": {
   "codemirror_mode": {
    "name": "ipython",
    "version": 3
   },
   "file_extension": ".py",
   "mimetype": "text/x-python",
   "name": "python",
   "nbconvert_exporter": "python",
   "pygments_lexer": "ipython3",
   "version": "3.7.6"
  }
 },
 "nbformat": 4,
 "nbformat_minor": 4
}
