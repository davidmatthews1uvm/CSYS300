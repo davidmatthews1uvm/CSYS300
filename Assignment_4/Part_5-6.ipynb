{
 "cells": [
  {
   "cell_type": "code",
   "execution_count": 1,
   "metadata": {},
   "outputs": [],
   "source": [
    "import matplotlib.pyplot as plt\n",
    "import numpy as np\n",
    "import numba\n",
    "import pandas as pd\n",
    "from scipy import stats\n",
    "import gzip\n",
    "import urllib.request\n",
    "from string import punctuation\n",
    "from collections import Counter\n",
    "from fractions import Fraction"
   ]
  },
  {
   "cell_type": "code",
   "execution_count": 60,
   "metadata": {},
   "outputs": [],
   "source": [
    "def analyze_word_counts(word_counts):\n",
    "    df = pd.DataFrame(word_counts, columns=[\"word\", \"count\"])\n",
    "    print(df[\"word\"].unique().shape)\n",
    "    total_words = df[\"count\"].sum()\n",
    "    unique_words = len(word_counts)\n",
    "    print(\"Total words: %d\"%total_words)\n",
    "    print(\"Total unique words: %d\"%unique_words)\n",
    "    print(\"$\\\\rho_{est} =  %.3f$\"%(unique_words/total_words))\n",
    "\n",
    "    print(\"\\\\begin{enumerate}\")\n",
    "    for i in range(1,3+1):\n",
    "        count = df[df[\"count\"] == i].shape\n",
    "        print(\"\\t\\\\item There were %5d (%.3f\\\\%%) words used %d times each\"%(count[0], count[0]*100/ total_words,   i))\n",
    "    print(\"\\\\end{enumerate}\")"
   ]
  },
  {
   "cell_type": "code",
   "execution_count": 61,
   "metadata": {},
   "outputs": [],
   "source": [
    "ulysses_url = \"http://www.uvm.edu/pdodds/teaching/courses/2020-08UVM-300/docs/ulysses.txt\"\n",
    "def generate_word_counts_ulysses():\n",
    "    print(\"Running for Ulysses...\")\n",
    "    with urllib.request.urlopen(ulysses_url) as f:\n",
    "        word_counts =  [tuple(l.split()) for l in f.read().decode(\"utf-8\").split(\"\\n\") if l != \"\"]\n",
    "    word_counts = [(a[:-1], int(b)) for (a,b) in word_counts]\n",
    "    return word_counts"
   ]
  },
  {
   "cell_type": "code",
   "execution_count": 62,
   "metadata": {},
   "outputs": [
    {
     "name": "stdout",
     "output_type": "stream",
     "text": [
      "Running for Ulysses...\n",
      "(31398,)\n",
      "Total words: 264706\n",
      "Total unique words: 31398\n",
      "$\\rho_{est} =  0.119$\n",
      "\\begin{enumerate}\n",
      "\t\\item There were 17738 (6.701\\%) words used 1 times each\n",
      "\t\\item There were  4887 (1.846\\%) words used 2 times each\n",
      "\t\\item There were  2241 (0.847\\%) words used 3 times each\n",
      "\\end{enumerate}\n"
     ]
    }
   ],
   "source": [
    "analyze_word_counts(generate_word_counts_ulysses())"
   ]
  },
  {
   "cell_type": "code",
   "execution_count": 34,
   "metadata": {},
   "outputs": [],
   "source": [
    "pride_and_prejudice_url = \"https://www.gutenberg.org/files/1342/1342-0.txt\"\n",
    "def generate_word_counts_pride_prejudice():\n",
    "    print(\"Running for Pride and Prejudice...\")\n",
    "    with urllib.request.urlopen(pride_and_prejudice_url) as f:\n",
    "        raw = f.read().decode(\"utf-8\")\n",
    "    \n",
    "    exclude = set(punctuation) \n",
    "\n",
    "    raw_trimmed = raw.split(\"\\r\\n\")[35:-368] # remove boilerplate content\n",
    "    raw_joined = \" \".join(raw_trimmed)\n",
    "    list_letters_noPunct =  [ char for char in raw_joined if char not in exclude ]\n",
    "    text_noPunct = \"\".join(list_letters_noPunct)\n",
    "    list_words = text_noPunct.strip().split()\n",
    "    words_counter = Counter(list_words)\n",
    "    \n",
    "    return(list(words_counter.items()))"
   ]
  },
  {
   "cell_type": "code",
   "execution_count": 35,
   "metadata": {},
   "outputs": [
    {
     "name": "stdout",
     "output_type": "stream",
     "text": [
      "Running for Pride and Prejudice...\n",
      "Total words: 121662\n",
      "Total unique words: 8206\n",
      "$\\rho_{est} =  0.067$\n",
      "\\begin{enumerate}\n",
      "\t\\item There were  3668 (3.015\\%) words used 1 times each\n",
      "\t\\item There were  1218 (1.001\\%) words used 2 times each\n",
      "\t\\item There were   689 (0.566\\%) words used 3 times each\n",
      "\\end{enumerate}\n"
     ]
    }
   ],
   "source": [
    "analyze_word_counts(generate_word_counts_pride_prejudice())"
   ]
  },
  {
   "cell_type": "code",
   "execution_count": 36,
   "metadata": {},
   "outputs": [],
   "source": [
    "le_comte_urls = [\"https://www.gutenberg.org/ebooks/17989.txt.utf-8\", # volume 1 - 4\n",
    "                \"https://www.gutenberg.org/ebooks/17990.txt.utf-8\",\n",
    "                \"https://www.gutenberg.org/ebooks/17991.txt.utf-8\",\n",
    "                \"https://www.gutenberg.org/ebooks/17992.txt.utf-8\"]\n",
    "exclude = set(punctuation) \n",
    "\n",
    "def generate_word_counts_le_comte():\n",
    "    print(\"Running for Le comte...\")\n",
    "    raws = [urllib.request.urlopen(url).read().decode(\"utf-8\") for url in le_comte_urls]\n",
    "    raws_trimmed = [raw.split(\"\\r\\n\")[25: -368] for raw in raws] # remove boilerplate code\n",
    "    raws_joined = []\n",
    "    for raw in raws_trimmed:\n",
    "        raws_joined += raw\n",
    "    list_letters_noPunct =  [ char for char in raws_joined if char not in exclude ]\n",
    "    text_noPunct = \"\".join(list_letters_noPunct)\n",
    "    list_words = text_noPunct.strip().split()\n",
    "    words_counter = Counter(list_words)\n",
    "    \n",
    "    return(list(words_counter.items()))"
   ]
  },
  {
   "cell_type": "code",
   "execution_count": 37,
   "metadata": {},
   "outputs": [
    {
     "name": "stdout",
     "output_type": "stream",
     "text": [
      "Running for Le comte...\n",
      "Total words: 420611\n",
      "Total unique words: 76625\n",
      "$\\rho_{est} =  0.182$\n",
      "\\begin{enumerate}\n",
      "\t\\item There were 57981 (13.785\\%) words used 1 times each\n",
      "\t\\item There were  7287 (1.732\\%) words used 2 times each\n",
      "\t\\item There were  3113 (0.740\\%) words used 3 times each\n",
      "\\end{enumerate}\n"
     ]
    }
   ],
   "source": [
    "analyze_word_counts(generate_word_counts_le_comte())"
   ]
  },
  {
   "cell_type": "code",
   "execution_count": null,
   "metadata": {},
   "outputs": [],
   "source": []
  },
  {
   "cell_type": "code",
   "execution_count": 38,
   "metadata": {},
   "outputs": [
    {
     "name": "stdout",
     "output_type": "stream",
     "text": [
      "Running for Ulysses...\n"
     ]
    }
   ],
   "source": [
    "words, counts = zip(*generate_word_counts_ulysses())"
   ]
  },
  {
   "cell_type": "code",
   "execution_count": 42,
   "metadata": {},
   "outputs": [
    {
     "data": {
      "text/plain": [
       "(<Figure size 576x576 with 1 Axes>,\n",
       " <matplotlib.axes._subplots.AxesSubplot at 0x7ff06a41b750>)"
      ]
     },
     "execution_count": 42,
     "metadata": {},
     "output_type": "execute_result"
    },
    {
     "data": {
      "image/png": "[encoded data removed]",
      "text/plain": [
       "<Figure size 576x576 with 1 Axes>"
      ]
     },
     "metadata": {
      "needs_background": "light"
     },
     "output_type": "display_data"
    },
    {
     "data": {
      "image/png": "[encoded data removed]",
      "text/plain": [
       "<Figure size 576x576 with 1 Axes>"
      ]
     },
     "metadata": {
      "needs_background": "light"
     },
     "output_type": "display_data"
    }
   ],
   "source": [
    "def plot_ZIPF(samples, title=\"\", xlabel=\"\", ylabel=\"\", save=None, split_point=None):\n",
    "    N = len(samples)\n",
    "    Y = np.array(sorted(samples, reverse=True))\n",
    "    X = np.arange(1, N+1)\n",
    "    fig, ax = plt.subplots(1, figsize=(8,8))\n",
    "    ax.scatter(X, Y, c=\"k\")\n",
    "    \n",
    "    if split_point is not None:\n",
    "        mask = (split_point < X)\n",
    "        X_sub = X[mask]\n",
    "        Y_sub = Y[mask]\n",
    "        \n",
    "        log10_X_sub = np.log10(X_sub)\n",
    "        log10_Y_sub = np.log10(Y_sub)\n",
    "        slope, intercept, r_val, p_val, std_err = stats.linregress(log10_X_sub, log10_Y_sub)\n",
    "        predict = lambda n: intercept + slope * n \n",
    "        predictions = np.power(10, predict(log10_X_sub))\n",
    "        ax.plot(X_sub, predictions, c=\"C1\", linewidth=6, linestyle=\"dashed\", label=r\"$\\alpha: %.3f \\pm %.3E$\"%((-1 * slope), std_err * 1.96))\n",
    "           \n",
    "    ax.set_xscale(\"log\")\n",
    "    ax.set_yscale(\"log\")\n",
    "    ax.set_xlabel(xlabel, fontsize=18)\n",
    "    ax.set_ylabel(ylabel, fontsize=18)\n",
    "    ax.set_title(title, fontsize=24)\n",
    "    if split_point is not None:\n",
    "        ax.legend(fontsize=18)\n",
    "    return fig, ax\n",
    "def plot_CCDF(samples, title=\"\", xlabel=\"\", ylabel=\"\", save=None, scaling_range=None):\n",
    "    N = len(samples)\n",
    "    X = np.array(sorted(samples, reverse=True))\n",
    "    Y = np.arange(1, N+1)\n",
    "    fig, ax = plt.subplots(1, figsize=(8,8))\n",
    "    ax.scatter(X, Y, c=\"k\")\n",
    "    \n",
    "    if scaling_range is not None:\n",
    "        mask = (scaling_range[0] < X) & (X < scaling_range[1])\n",
    "        X_sub = X[mask]\n",
    "        Y_sub = Y[mask]\n",
    "        \n",
    "        log10_X_sub = np.log10(X_sub)\n",
    "        log10_Y_sub = np.log10(Y_sub)\n",
    "        slope, intercept, r_val, p_val, std_err = stats.linregress(log10_X_sub, log10_Y_sub)\n",
    "        predict = lambda n: intercept + slope * n \n",
    "        predictions = np.power(10, predict(log10_X_sub))\n",
    "        ax.plot(X_sub, predictions, c=\"C1\", linewidth=6, linestyle=\"dashed\", label=r\"$\\gamma: %.3f \\pm %.3E$\"%((-slope + 1), std_err * 1.96))\n",
    "    ax.set_xscale(\"log\")\n",
    "    ax.set_yscale(\"log\")\n",
    "    ax.set_xlabel(xlabel, fontsize=18)\n",
    "    ax.set_ylabel(ylabel, fontsize=18)\n",
    "    ax.set_title(title, fontsize=24)\n",
    "    if scaling_range is not None:\n",
    "        ax.legend(fontsize=18)\n",
    "    return fig, ax\n",
    "\n",
    "plot_ZIPF(counts, split_point=0)\n",
    "plot_CCDF(counts, scaling_range=[0, 1e100])"
   ]
  },
  {
   "cell_type": "code",
   "execution_count": null,
   "metadata": {},
   "outputs": [],
   "source": []
  }
 ],
 "metadata": {
  "kernelspec": {
   "display_name": "Python 3",
   "language": "python",
   "name": "python3"
  },
  "language_info": {
   "codemirror_mode": {
    "name": "ipython",
    "version": 3
   },
   "file_extension": ".py",
   "mimetype": "text/x-python",
   "name": "python",
   "nbconvert_exporter": "python",
   "pygments_lexer": "ipython3",
   "version": "3.7.6"
  }
 },
 "nbformat": 4,
 "nbformat_minor": 4
}
