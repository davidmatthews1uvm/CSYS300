{
 "cells": [
  {
   "cell_type": "code",
   "execution_count": 1,
   "metadata": {},
   "outputs": [],
   "source": [
    "import numpy as np\n",
    "import numba\n",
    "import matplotlib.pyplot as plt\n",
    "from scipy import stats\n",
    "import pandas as pd\n",
    "import time"
   ]
  },
  {
   "cell_type": "code",
   "execution_count": 2,
   "metadata": {},
   "outputs": [],
   "source": [
    "def random_k(rnd):\n",
    "    return np.power(1 - rnd, -2/3)"
   ]
  },
  {
   "cell_type": "code",
   "execution_count": 3,
   "metadata": {},
   "outputs": [],
   "source": [
    "num_samples = 1000\n",
    "observations_per_sample = np.power(10, np.arange(1, 6+1))"
   ]
  },
  {
   "cell_type": "code",
   "execution_count": null,
   "metadata": {},
   "outputs": [
    {
     "name": "stdout",
     "output_type": "stream",
     "text": [
      "0 0.0008208751678466797\n",
      "1 0.0051882266998291016\n",
      "2 0.051284074783325195\n",
      "3 0.43097591400146484\n",
      "4 4.620021104812622\n"
     ]
    }
   ],
   "source": [
    "samples = [None] * observations_per_sample.shape[0]\n",
    "\n",
    "for n in range(len(samples)):\n",
    "    t0 = time.time()\n",
    "    observations = np.round(random_k(np.random.random(size=(num_samples, observations_per_sample[n]))))\n",
    "    t1 = time.time()\n",
    "    print(n, t1-t0)"
   ]
  },
  {
   "cell_type": "code",
   "execution_count": null,
   "metadata": {},
   "outputs": [],
   "source": []
  }
 ],
 "metadata": {
  "kernelspec": {
   "display_name": "Python 3",
   "language": "python",
   "name": "python3"
  },
  "language_info": {
   "codemirror_mode": {
    "name": "ipython",
    "version": 3
   },
   "file_extension": ".py",
   "mimetype": "text/x-python",
   "name": "python",
   "nbconvert_exporter": "python",
   "pygments_lexer": "ipython3",
   "version": "3.7.6"
  }
 },
 "nbformat": 4,
 "nbformat_minor": 4
}
