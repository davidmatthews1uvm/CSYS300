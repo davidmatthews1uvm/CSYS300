{
 "cells": [
  {
   "cell_type": "code",
   "execution_count": 1,
   "metadata": {},
   "outputs": [],
   "source": [
    "import numpy as np\n",
    "from skimage import measure\n",
    "from time import time\n",
    "from joblib import Parallel, delayed \n",
    "from tqdm import tqdm\n",
    "\n",
    "import seaborn as sns\n",
    "import pandas as pd\n",
    "import matplotlib.pyplot as plt\n"
   ]
  },
  {
   "cell_type": "code",
   "execution_count": 2,
   "metadata": {},
   "outputs": [],
   "source": [
    "\n",
    "IMAGES = 100\n",
    "IMG_PER_P = 1\n",
    "\n",
    "def run_sim(p, i, N):\n",
    "    t0 = time()\n",
    "    input_img = np.where(np.random.random( size=(N, N)) > p, 1, 0)\n",
    "    t1 = time()\n",
    "    all_labels = measure.label(input_img)\n",
    "    t2 = time()\n",
    "    unique, counts = np.unique(all_labels, return_counts=True)\n",
    "    largest_ag = -1\n",
    "    if len(unique) == 1 and unique[0] != 0:\n",
    "        largest_ag = counts[0]\n",
    "    elif len(unique) > 1:\n",
    "        if unique[-1] == 0:\n",
    "            largest_ag = counts[-2]\n",
    "        else:\n",
    "            largest_ag = counts[-1]\n",
    "\n",
    "    t3 = time()\n",
    "    return (i, p, largest_ag,  t1-t0, t2-t1, t3-t2, t3-t0)\n"
   ]
  },
  {
   "cell_type": "code",
   "execution_count": null,
   "metadata": {},
   "outputs": [
    {
     "name": "stderr",
     "output_type": "stream",
     "text": [
      "L:    20: 100%|██████████| 20000/20000 [00:01<00:00, 10904.98it/s]\n",
      "L:    50: 100%|██████████| 20000/20000 [00:00<00:00, 22069.67it/s]\n",
      "L:   100: 100%|██████████| 20000/20000 [00:01<00:00, 10631.99it/s]\n",
      "L:   200: 100%|██████████| 20000/20000 [00:07<00:00, 2626.55it/s]\n",
      "L:   500: 100%|██████████| 20000/20000 [00:59<00:00, 337.29it/s]\n",
      "L:  1000: 100%|██████████| 20000/20000 [04:36<00:00, 72.32it/s]\n",
      "L:  2000:   0%|          | 16/20000 [00:00<09:31, 34.99it/s]/Users/David/anaconda3/lib/python3.7/site-packages/joblib/externals/loky/process_executor.py:706: UserWarning: A worker stopped while some jobs were given to the executor. This can be caused by a too short worker timeout or by a memory leak.\n",
      "  \"timeout or by a memory leak.\", UserWarning\n",
      "L:  2000:   7%|▋         | 1376/20000 [01:18<18:11, 17.06it/s]"
     ]
    }
   ],
   "source": [
    "sims = {}\n",
    "for L in [20, 50, 100, 200, 500, 1000, 2000]:\n",
    "    t00 = time()\n",
    "    IMG_PER_P = int(5e8)//int(np.power(L, 3) * IMAGES) \n",
    "    if IMG_PER_P < 1:\n",
    "        IMG_PER_P = 1\n",
    "    IMG_PER_P = 200\n",
    "    results = Parallel(n_jobs=-1)(delayed(run_sim)(i%IMAGES/(IMAGES-1), i, L) for i in tqdm(range(IMAGES*IMG_PER_P), desc=\"L: %5d\"%L)) # n_jobs = -1 means use all cores.\n",
    "\n",
    "    sims[L] = results"
   ]
  },
  {
   "cell_type": "code",
   "execution_count": null,
   "metadata": {},
   "outputs": [],
   "source": [
    "dfs = []\n",
    "for k in sims.keys():\n",
    "    results = sims[k]\n",
    "    results_trimmed = [(1 - r[1], r[2]/(k*k), k) for r in results]\n",
    "    df = pd.DataFrame(results_trimmed, columns=[\"p\", \"ag frac\", \"L\"])\n",
    "    dfs.append(df)\n",
    "    \n",
    "df = pd.concat(dfs)"
   ]
  },
  {
   "cell_type": "code",
   "execution_count": null,
   "metadata": {},
   "outputs": [],
   "source": [
    "sns.set(font_scale=2) \n",
    "fig, ax = plt.subplots(1, figsize=(18,6))\n",
    "sns.lineplot(data=df, x=\"p\", y=\"ag frac\", hue=\"L\", palette=\"jet\", legend=\"full\", ax=ax)\n",
    "plt.title(\"Giant Aggregate Sizes\", fontsize=24)\n",
    "plt.show()"
   ]
  },
  {
   "cell_type": "code",
   "execution_count": null,
   "metadata": {},
   "outputs": [],
   "source": []
  }
 ],
 "metadata": {
  "kernelspec": {
   "display_name": "Python 3",
   "language": "python",
   "name": "python3"
  },
  "language_info": {
   "codemirror_mode": {
    "name": "ipython",
    "version": 3
   },
   "file_extension": ".py",
   "mimetype": "text/x-python",
   "name": "python",
   "nbconvert_exporter": "python",
   "pygments_lexer": "ipython3",
   "version": "3.7.6"
  }
 },
 "nbformat": 4,
 "nbformat_minor": 4
}
